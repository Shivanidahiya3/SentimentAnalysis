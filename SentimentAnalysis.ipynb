{
 "cells": [
  {
   "cell_type": "code",
   "execution_count": null,
   "id": "33dec867",
   "metadata": {},
   "outputs": [],
   "source": [
    "import pandas as pd \n",
    "import numpy as np \n",
    "\n",
    "import matplotlib.pyplot as plt \n",
    "import re\n",
    "import string\n",
    "\n",
    "import nltk\n",
    "from nltk.tokenize import sent_tokenize\n",
    "from nltk.corpus import words\n",
    "from nltk.corpus import stopwords\n",
    "from nltk.tokenize import word_tokenize\n",
    "from nltk.stem import WordNetLemmatizer\n",
    "from nltk.stem import PorterStemmer\n",
    "from nltk.sentiment.vader import SentimentIntensityAnalyzer\n",
    "from nltk.sentiment.util import *\n",
    "\n",
    "from collections import Counter\n",
    "\n",
    "from matplotlib import pyplot as plt\n",
    "from matplotlib import ticker\n",
    "import seaborn as sns\n",
    "\n",
    "\n",
    "sns.set(style=\"darkgrid\")"
   ]
  },
  {
   "cell_type": "code",
   "execution_count": null,
   "id": "6a6480cd",
   "metadata": {},
   "outputs": [],
   "source": [
    "df = pd.read_csv(\"cleaned_tweets_2021-08.csv\")\n",
    "df.head()"
   ]
  },
  {
   "cell_type": "code",
   "execution_count": null,
   "id": "8af925ec",
   "metadata": {},
   "outputs": [],
   "source": [
    "df.shape"
   ]
  },
  {
   "cell_type": "code",
   "execution_count": null,
   "id": "33821a1d",
   "metadata": {},
   "outputs": [],
   "source": [
    "df.info()"
   ]
  },
  {
   "cell_type": "code",
   "execution_count": null,
   "id": "43772927",
   "metadata": {},
   "outputs": [],
   "source": [
    "df.Datetime = pd.to_datetime(df.Datetime).dt.date\n",
    "df"
   ]
  },
  {
   "cell_type": "code",
   "execution_count": null,
   "id": "8d14ea92",
   "metadata": {},
   "outputs": [],
   "source": [
    "texts = df['tweet']\n",
    "texts.head()"
   ]
  },
  {
   "cell_type": "code",
   "execution_count": null,
   "id": "5a538c33",
   "metadata": {},
   "outputs": [],
   "source": [
    "remove_url = lambda x: re.sub(r'https\\S+', '', str(x))\n",
    "texts_lr = texts.apply(remove_url)\n",
    "texts_lr.head()"
   ]
  },
  {
   "cell_type": "code",
   "execution_count": null,
   "id": "ac36aa2d",
   "metadata": {},
   "outputs": [],
   "source": [
    "to_lower = lambda x : x.lower()\n",
    "texts_lc = texts_lr.apply(to_lower)\n",
    "texts_lc.head()"
   ]
  },
  {
   "cell_type": "code",
   "execution_count": null,
   "id": "c60b660f",
   "metadata": {},
   "outputs": [],
   "source": [
    "rmv_pcs = lambda x : x.translate(str.maketrans('', '', string.punctuation))\n",
    "texts_pcs = texts_lc.apply(rmv_pcs)\n",
    "texts_pcs"
   ]
  },
  {
   "cell_type": "code",
   "execution_count": null,
   "id": "2c029f66",
   "metadata": {},
   "outputs": [],
   "source": [
    "update_words = ['covid','amp', 'coronavirus', 'covid19','https']\n",
    "stop_words = set(stopwords.words('english'))\n",
    "stop_words.update(update_words)\n",
    "\n",
    "remove_words = lambda x : ' '.join([word for word in x.split() if word not in stop_words])\n",
    "texts_rs = texts_pcs.apply(remove_words)\n",
    "texts_rs.head()"
   ]
  },
  {
   "cell_type": "markdown",
   "id": "7b647d1a",
   "metadata": {},
   "source": [
    "## Text Analysis"
   ]
  },
  {
   "cell_type": "code",
   "execution_count": null,
   "id": "44d392da",
   "metadata": {},
   "outputs": [],
   "source": [
    "word_list = [word for line in texts_rs for word in line.split()]\n",
    "word_list[:10]"
   ]
  },
  {
   "cell_type": "code",
   "execution_count": null,
   "id": "53f04a10",
   "metadata": {},
   "outputs": [],
   "source": [
    "word_counts = Counter(word_list).most_common(50)\n",
    "words_df = pd.DataFrame(word_counts)\n",
    "words_df.columns = ['word', 'frequency']\n",
    "\n",
    "px.bar(words_df, x='word', y='frequency', title='Most Common Words')"
   ]
  },
  {
   "cell_type": "markdown",
   "id": "23a341cc",
   "metadata": {},
   "source": [
    "## Join Table"
   ]
  },
  {
   "cell_type": "code",
   "execution_count": null,
   "id": "695e6ed9",
   "metadata": {},
   "outputs": [],
   "source": [
    "df['text'] = texts_rs\n",
    "df.head()"
   ]
  },
  {
   "cell_type": "code",
   "execution_count": null,
   "id": "23ed2e0d",
   "metadata": {},
   "outputs": [],
   "source": [
    "df.info()"
   ]
  },
  {
   "cell_type": "code",
   "execution_count": null,
   "id": "60066e6a",
   "metadata": {},
   "outputs": [],
   "source": [
    "sid = SentimentIntensityAnalyzer()\n",
    "ps = lambda x : sid.polarity_scores(x)\n",
    "sentiment_scores = df.text.apply(ps)\n",
    "sentiment_scores"
   ]
  },
  {
   "cell_type": "code",
   "execution_count": null,
   "id": "149704c7",
   "metadata": {},
   "outputs": [],
   "source": [
    "sentiment_df = pd.DataFrame(data = list(sentiment_scores))\n",
    "sentiment_df.head()"
   ]
  },
  {
   "cell_type": "code",
   "execution_count": null,
   "id": "7cf112ea",
   "metadata": {},
   "outputs": [],
   "source": [
    "labelize = lambda x : 'neutral' if x==0 else('positive' if x>0 else 'negative')\n",
    "sentiment_df['label'] = sentiment_df.compound.apply(labelize)\n",
    "sentiment_df.head()"
   ]
  },
  {
   "cell_type": "code",
   "execution_count": null,
   "id": "7bf52ddf",
   "metadata": {},
   "outputs": [],
   "source": [
    "data = df.join(sentiment_df.label)\n",
    "data.head()"
   ]
  },
  {
   "cell_type": "code",
   "execution_count": null,
   "id": "274d79dd",
   "metadata": {},
   "outputs": [],
   "source": [
    "counts_df = data.label.value_counts().reset_index()\n",
    "counts_df"
   ]
  },
  {
   "cell_type": "code",
   "execution_count": null,
   "id": "9fabc278",
   "metadata": {},
   "outputs": [],
   "source": [
    "sns.barplot(data=counts_df, x='index', y='label')"
   ]
  },
  {
   "cell_type": "code",
   "execution_count": null,
   "id": "48faa832",
   "metadata": {},
   "outputs": [],
   "source": [
    "data.to_csv('sentiment_aug.csv',index=False)"
   ]
  },
  {
   "cell_type": "code",
   "execution_count": null,
   "id": "92b99df1",
   "metadata": {},
   "outputs": [],
   "source": [
    "data_agg = data[['Datetime', 'label']].groupby(['Datetime', 'label']).count().reset_index()\n",
    "data_agg.columns = ['label', 'counts']\n",
    "data_agg.head()"
   ]
  },
  {
   "cell_type": "code",
   "execution_count": null,
   "id": "c822bc0f",
   "metadata": {},
   "outputs": [],
   "source": [
    "px.line(data_agg, x='date', y='counts', color='label', title='COVID-19 Vaccines Sentiment Analysis')"
   ]
  },
  {
   "cell_type": "code",
   "execution_count": null,
   "id": "5c7ba52f",
   "metadata": {},
   "outputs": [],
   "source": []
  }
 ],
 "metadata": {
  "kernelspec": {
   "display_name": "Python 3",
   "language": "python",
   "name": "python3"
  },
  "language_info": {
   "codemirror_mode": {
    "name": "ipython",
    "version": 3
   },
   "file_extension": ".py",
   "mimetype": "text/x-python",
   "name": "python",
   "nbconvert_exporter": "python",
   "pygments_lexer": "ipython3",
   "version": "3.8.8"
  }
 },
 "nbformat": 4,
 "nbformat_minor": 5
}
